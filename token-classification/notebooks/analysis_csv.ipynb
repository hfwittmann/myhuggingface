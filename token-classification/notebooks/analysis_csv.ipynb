{
 "cells": [
  {
   "cell_type": "code",
   "execution_count": 1,
   "id": "b0647aef",
   "metadata": {},
   "outputs": [
    {
     "data": {
      "text/html": [
       "<pre style=\"white-space:pre;overflow-x:auto;line-height:normal;font-family:Menlo,'DejaVu Sans Mono',consolas,'Courier New',monospace\"><span style=\"color: #7fbfbf; text-decoration-color: #7fbfbf\">[07/11/22 23:17:43] </span><span style=\"color: #000080; text-decoration-color: #000080\">INFO    </span> Loading data from <span style=\"color: #008000; text-decoration-color: #008000\">'dataset_csv'</span>              <a href=\"file:///home/hfwittmann/.cache/pypoetry/virtualenvs/myhuggingface-37nujZai-py3.7/lib/python3.7/site-packages/kedro/io/data_catalog.py\" target=\"_blank\"><span style=\"color: #7f7f7f; text-decoration-color: #7f7f7f\">data_catalog.py</span></a><span style=\"color: #7f7f7f; text-decoration-color: #7f7f7f\">:</span><a href=\"file:///home/hfwittmann/.cache/pypoetry/virtualenvs/myhuggingface-37nujZai-py3.7/lib/python3.7/site-packages/kedro/io/data_catalog.py#344\" target=\"_blank\"><span style=\"color: #7f7f7f; text-decoration-color: #7f7f7f\">344</span></a>\n",
       "<span style=\"color: #7fbfbf; text-decoration-color: #7fbfbf\">                    </span>         <span style=\"font-weight: bold\">(</span>HuggingfaceDataSet<span style=\"font-weight: bold\">)</span><span style=\"color: #808000; text-decoration-color: #808000\">...</span>                      <span style=\"color: #7f7f7f; text-decoration-color: #7f7f7f\">                   </span>\n",
       "</pre>\n"
      ],
      "text/plain": [
       "\u001b[2;36m[07/11/22 23:17:43]\u001b[0m\u001b[2;36m \u001b[0m\u001b[34mINFO    \u001b[0m Loading data from \u001b[32m'dataset_csv'\u001b[0m              \u001b]8;id=626677;file:///home/hfwittmann/.cache/pypoetry/virtualenvs/myhuggingface-37nujZai-py3.7/lib/python3.7/site-packages/kedro/io/data_catalog.py\u001b\\\u001b[2mdata_catalog.py\u001b[0m\u001b]8;;\u001b\\\u001b[2m:\u001b[0m\u001b]8;id=996028;file:///home/hfwittmann/.cache/pypoetry/virtualenvs/myhuggingface-37nujZai-py3.7/lib/python3.7/site-packages/kedro/io/data_catalog.py#344\u001b\\\u001b[2m344\u001b[0m\u001b]8;;\u001b\\\n",
       "\u001b[2;36m                    \u001b[0m         \u001b[1m(\u001b[0mHuggingfaceDataSet\u001b[1m)\u001b[0m\u001b[33m...\u001b[0m                      \u001b[2m                   \u001b[0m\n"
      ]
     },
     "metadata": {},
     "output_type": "display_data"
    },
    {
     "data": {
      "text/html": [
       "<pre style=\"white-space:pre;overflow-x:auto;line-height:normal;font-family:Menlo,'DejaVu Sans Mono',consolas,'Courier New',monospace\"><span style=\"color: #7fbfbf; text-decoration-color: #7fbfbf\">[07/11/22 23:17:44] </span><span style=\"color: #800000; text-decoration-color: #800000\">WARNING </span> Using custom data configuration                   <a href=\"file:///home/hfwittmann/.cache/pypoetry/virtualenvs/myhuggingface-37nujZai-py3.7/lib/python3.7/site-packages/datasets/builder.py\" target=\"_blank\"><span style=\"color: #7f7f7f; text-decoration-color: #7f7f7f\">builder.py</span></a><span style=\"color: #7f7f7f; text-decoration-color: #7f7f7f\">:</span><a href=\"file:///home/hfwittmann/.cache/pypoetry/virtualenvs/myhuggingface-37nujZai-py3.7/lib/python3.7/site-packages/datasets/builder.py#463\" target=\"_blank\"><span style=\"color: #7f7f7f; text-decoration-color: #7f7f7f\">463</span></a>\n",
       "<span style=\"color: #7fbfbf; text-decoration-color: #7fbfbf\">                    </span>         default-f3f1c884e2eea847                          <span style=\"color: #7f7f7f; text-decoration-color: #7f7f7f\">              </span>\n",
       "</pre>\n"
      ],
      "text/plain": [
       "\u001b[2;36m[07/11/22 23:17:44]\u001b[0m\u001b[2;36m \u001b[0m\u001b[31mWARNING \u001b[0m Using custom data configuration                   \u001b]8;id=616275;file:///home/hfwittmann/.cache/pypoetry/virtualenvs/myhuggingface-37nujZai-py3.7/lib/python3.7/site-packages/datasets/builder.py\u001b\\\u001b[2mbuilder.py\u001b[0m\u001b]8;;\u001b\\\u001b[2m:\u001b[0m\u001b]8;id=579483;file:///home/hfwittmann/.cache/pypoetry/virtualenvs/myhuggingface-37nujZai-py3.7/lib/python3.7/site-packages/datasets/builder.py#463\u001b\\\u001b[2m463\u001b[0m\u001b]8;;\u001b\\\n",
       "\u001b[2;36m                    \u001b[0m         default-f3f1c884e2eea847                          \u001b[2m              \u001b[0m\n"
      ]
     },
     "metadata": {},
     "output_type": "display_data"
    },
    {
     "data": {
      "text/html": [
       "<pre style=\"white-space:pre;overflow-x:auto;line-height:normal;font-family:Menlo,'DejaVu Sans Mono',consolas,'Courier New',monospace\"><span style=\"color: #7fbfbf; text-decoration-color: #7fbfbf\">                    </span><span style=\"color: #800000; text-decoration-color: #800000\">WARNING </span> Reusing dataset csv <span style=\"font-weight: bold\">(</span><span style=\"color: #800080; text-decoration-color: #800080\">/home/hfwittmann/.cache/hugg</span> <a href=\"file:///home/hfwittmann/.cache/pypoetry/virtualenvs/myhuggingface-37nujZai-py3.7/lib/python3.7/site-packages/datasets/builder.py\" target=\"_blank\"><span style=\"color: #7f7f7f; text-decoration-color: #7f7f7f\">builder.py</span></a><span style=\"color: #7f7f7f; text-decoration-color: #7f7f7f\">:</span><a href=\"file:///home/hfwittmann/.cache/pypoetry/virtualenvs/myhuggingface-37nujZai-py3.7/lib/python3.7/site-packages/datasets/builder.py#641\" target=\"_blank\"><span style=\"color: #7f7f7f; text-decoration-color: #7f7f7f\">641</span></a>\n",
       "<span style=\"color: #7fbfbf; text-decoration-color: #7fbfbf\">                    </span>         <span style=\"color: #800080; text-decoration-color: #800080\">ingface/datasets/csv/default-f3f1c884e2eea847/0.0</span> <span style=\"color: #7f7f7f; text-decoration-color: #7f7f7f\">              </span>\n",
       "<span style=\"color: #7fbfbf; text-decoration-color: #7fbfbf\">                    </span>         <span style=\"color: #800080; text-decoration-color: #800080\">.0/</span><span style=\"color: #ff00ff; text-decoration-color: #ff00ff\">51cce309a08df9c4d82ffd9363bbe090bf173197fc01a7</span> <span style=\"color: #7f7f7f; text-decoration-color: #7f7f7f\">              </span>\n",
       "<span style=\"color: #7fbfbf; text-decoration-color: #7fbfbf\">                    </span>         <span style=\"color: #ff00ff; text-decoration-color: #ff00ff\">1b034e8594995a1a58</span><span style=\"font-weight: bold\">)</span>                               <span style=\"color: #7f7f7f; text-decoration-color: #7f7f7f\">              </span>\n",
       "</pre>\n"
      ],
      "text/plain": [
       "\u001b[2;36m                   \u001b[0m\u001b[2;36m \u001b[0m\u001b[31mWARNING \u001b[0m Reusing dataset csv \u001b[1m(\u001b[0m\u001b[35m/home/hfwittmann/.cache/hugg\u001b[0m \u001b]8;id=714844;file:///home/hfwittmann/.cache/pypoetry/virtualenvs/myhuggingface-37nujZai-py3.7/lib/python3.7/site-packages/datasets/builder.py\u001b\\\u001b[2mbuilder.py\u001b[0m\u001b]8;;\u001b\\\u001b[2m:\u001b[0m\u001b]8;id=144375;file:///home/hfwittmann/.cache/pypoetry/virtualenvs/myhuggingface-37nujZai-py3.7/lib/python3.7/site-packages/datasets/builder.py#641\u001b\\\u001b[2m641\u001b[0m\u001b]8;;\u001b\\\n",
       "\u001b[2;36m                    \u001b[0m         \u001b[35mingface/datasets/csv/default-f3f1c884e2eea847/0.0\u001b[0m \u001b[2m              \u001b[0m\n",
       "\u001b[2;36m                    \u001b[0m         \u001b[35m.0/\u001b[0m\u001b[95m51cce309a08df9c4d82ffd9363bbe090bf173197fc01a7\u001b[0m \u001b[2m              \u001b[0m\n",
       "\u001b[2;36m                    \u001b[0m         \u001b[95m1b034e8594995a1a58\u001b[0m\u001b[1m)\u001b[0m                               \u001b[2m              \u001b[0m\n"
      ]
     },
     "metadata": {},
     "output_type": "display_data"
    },
    {
     "data": {
      "application/vnd.jupyter.widget-view+json": {
       "model_id": "af8a0aa2d3664d5aba23f71d925e4828",
       "version_major": 2,
       "version_minor": 0
      },
      "text/plain": [
       "  0%|          | 0/3 [00:00<?, ?it/s]"
      ]
     },
     "metadata": {},
     "output_type": "display_data"
    },
    {
     "data": {
      "text/html": [
       "<pre style=\"white-space:pre;overflow-x:auto;line-height:normal;font-family:Menlo,'DejaVu Sans Mono',consolas,'Courier New',monospace\">\n",
       "<span style=\"color: #800080; text-decoration-color: #800080; font-weight: bold\">DatasetDict</span><span style=\"font-weight: bold\">({</span>\n",
       "    train: <span style=\"color: #800080; text-decoration-color: #800080; font-weight: bold\">Dataset</span><span style=\"font-weight: bold\">({</span>\n",
       "        features: <span style=\"font-weight: bold\">[</span><span style=\"color: #008000; text-decoration-color: #008000\">'id'</span>, <span style=\"color: #008000; text-decoration-color: #008000\">'tokens'</span>, <span style=\"color: #008000; text-decoration-color: #008000\">'pos_tags'</span>, <span style=\"color: #008000; text-decoration-color: #008000\">'chunk_tags'</span>, <span style=\"color: #008000; text-decoration-color: #008000\">'ner_tags'</span><span style=\"font-weight: bold\">]</span>,\n",
       "        num_rows: <span style=\"color: #008080; text-decoration-color: #008080; font-weight: bold\">14042</span>\n",
       "    <span style=\"font-weight: bold\">})</span>\n",
       "    test: <span style=\"color: #800080; text-decoration-color: #800080; font-weight: bold\">Dataset</span><span style=\"font-weight: bold\">({</span>\n",
       "        features: <span style=\"font-weight: bold\">[</span><span style=\"color: #008000; text-decoration-color: #008000\">'id'</span>, <span style=\"color: #008000; text-decoration-color: #008000\">'tokens'</span>, <span style=\"color: #008000; text-decoration-color: #008000\">'pos_tags'</span>, <span style=\"color: #008000; text-decoration-color: #008000\">'chunk_tags'</span>, <span style=\"color: #008000; text-decoration-color: #008000\">'ner_tags'</span><span style=\"font-weight: bold\">]</span>,\n",
       "        num_rows: <span style=\"color: #008080; text-decoration-color: #008080; font-weight: bold\">3454</span>\n",
       "    <span style=\"font-weight: bold\">})</span>\n",
       "    validation: <span style=\"color: #800080; text-decoration-color: #800080; font-weight: bold\">Dataset</span><span style=\"font-weight: bold\">({</span>\n",
       "        features: <span style=\"font-weight: bold\">[</span><span style=\"color: #008000; text-decoration-color: #008000\">'id'</span>, <span style=\"color: #008000; text-decoration-color: #008000\">'tokens'</span>, <span style=\"color: #008000; text-decoration-color: #008000\">'pos_tags'</span>, <span style=\"color: #008000; text-decoration-color: #008000\">'chunk_tags'</span>, <span style=\"color: #008000; text-decoration-color: #008000\">'ner_tags'</span><span style=\"font-weight: bold\">]</span>,\n",
       "        num_rows: <span style=\"color: #008080; text-decoration-color: #008080; font-weight: bold\">3251</span>\n",
       "    <span style=\"font-weight: bold\">})</span>\n",
       "<span style=\"font-weight: bold\">})</span>\n",
       "</pre>\n"
      ],
      "text/plain": [
       "\n",
       "\u001b[1;35mDatasetDict\u001b[0m\u001b[1m(\u001b[0m\u001b[1m{\u001b[0m\n",
       "    train: \u001b[1;35mDataset\u001b[0m\u001b[1m(\u001b[0m\u001b[1m{\u001b[0m\n",
       "        features: \u001b[1m[\u001b[0m\u001b[32m'id'\u001b[0m, \u001b[32m'tokens'\u001b[0m, \u001b[32m'pos_tags'\u001b[0m, \u001b[32m'chunk_tags'\u001b[0m, \u001b[32m'ner_tags'\u001b[0m\u001b[1m]\u001b[0m,\n",
       "        num_rows: \u001b[1;36m14042\u001b[0m\n",
       "    \u001b[1m}\u001b[0m\u001b[1m)\u001b[0m\n",
       "    test: \u001b[1;35mDataset\u001b[0m\u001b[1m(\u001b[0m\u001b[1m{\u001b[0m\n",
       "        features: \u001b[1m[\u001b[0m\u001b[32m'id'\u001b[0m, \u001b[32m'tokens'\u001b[0m, \u001b[32m'pos_tags'\u001b[0m, \u001b[32m'chunk_tags'\u001b[0m, \u001b[32m'ner_tags'\u001b[0m\u001b[1m]\u001b[0m,\n",
       "        num_rows: \u001b[1;36m3454\u001b[0m\n",
       "    \u001b[1m}\u001b[0m\u001b[1m)\u001b[0m\n",
       "    validation: \u001b[1;35mDataset\u001b[0m\u001b[1m(\u001b[0m\u001b[1m{\u001b[0m\n",
       "        features: \u001b[1m[\u001b[0m\u001b[32m'id'\u001b[0m, \u001b[32m'tokens'\u001b[0m, \u001b[32m'pos_tags'\u001b[0m, \u001b[32m'chunk_tags'\u001b[0m, \u001b[32m'ner_tags'\u001b[0m\u001b[1m]\u001b[0m,\n",
       "        num_rows: \u001b[1;36m3251\u001b[0m\n",
       "    \u001b[1m}\u001b[0m\u001b[1m)\u001b[0m\n",
       "\u001b[1m}\u001b[0m\u001b[1m)\u001b[0m\n"
      ]
     },
     "metadata": {},
     "output_type": "display_data"
    }
   ],
   "source": [
    "catalog.load('dataset_csv')"
   ]
  },
  {
   "cell_type": "code",
   "execution_count": 2,
   "id": "9e9517eb",
   "metadata": {},
   "outputs": [
    {
     "data": {
      "text/html": [
       "<pre style=\"white-space:pre;overflow-x:auto;line-height:normal;font-family:Menlo,'DejaVu Sans Mono',consolas,'Courier New',monospace\"><span style=\"color: #7fbfbf; text-decoration-color: #7fbfbf\">[07/11/22 23:18:07] </span><span style=\"color: #000080; text-decoration-color: #000080\">INFO    </span> Loading data from <span style=\"color: #008000; text-decoration-color: #008000\">'dataset_csv'</span>              <a href=\"file:///home/hfwittmann/.cache/pypoetry/virtualenvs/myhuggingface-37nujZai-py3.7/lib/python3.7/site-packages/kedro/io/data_catalog.py\" target=\"_blank\"><span style=\"color: #7f7f7f; text-decoration-color: #7f7f7f\">data_catalog.py</span></a><span style=\"color: #7f7f7f; text-decoration-color: #7f7f7f\">:</span><a href=\"file:///home/hfwittmann/.cache/pypoetry/virtualenvs/myhuggingface-37nujZai-py3.7/lib/python3.7/site-packages/kedro/io/data_catalog.py#344\" target=\"_blank\"><span style=\"color: #7f7f7f; text-decoration-color: #7f7f7f\">344</span></a>\n",
       "<span style=\"color: #7fbfbf; text-decoration-color: #7fbfbf\">                    </span>         <span style=\"font-weight: bold\">(</span>HuggingfaceDataSet<span style=\"font-weight: bold\">)</span><span style=\"color: #808000; text-decoration-color: #808000\">...</span>                      <span style=\"color: #7f7f7f; text-decoration-color: #7f7f7f\">                   </span>\n",
       "</pre>\n"
      ],
      "text/plain": [
       "\u001b[2;36m[07/11/22 23:18:07]\u001b[0m\u001b[2;36m \u001b[0m\u001b[34mINFO    \u001b[0m Loading data from \u001b[32m'dataset_csv'\u001b[0m              \u001b]8;id=175525;file:///home/hfwittmann/.cache/pypoetry/virtualenvs/myhuggingface-37nujZai-py3.7/lib/python3.7/site-packages/kedro/io/data_catalog.py\u001b\\\u001b[2mdata_catalog.py\u001b[0m\u001b]8;;\u001b\\\u001b[2m:\u001b[0m\u001b]8;id=46017;file:///home/hfwittmann/.cache/pypoetry/virtualenvs/myhuggingface-37nujZai-py3.7/lib/python3.7/site-packages/kedro/io/data_catalog.py#344\u001b\\\u001b[2m344\u001b[0m\u001b]8;;\u001b\\\n",
       "\u001b[2;36m                    \u001b[0m         \u001b[1m(\u001b[0mHuggingfaceDataSet\u001b[1m)\u001b[0m\u001b[33m...\u001b[0m                      \u001b[2m                   \u001b[0m\n"
      ]
     },
     "metadata": {},
     "output_type": "display_data"
    },
    {
     "data": {
      "text/html": [
       "<pre style=\"white-space:pre;overflow-x:auto;line-height:normal;font-family:Menlo,'DejaVu Sans Mono',consolas,'Courier New',monospace\"><span style=\"color: #7fbfbf; text-decoration-color: #7fbfbf\">                    </span><span style=\"color: #800000; text-decoration-color: #800000\">WARNING </span> Using custom data configuration                   <a href=\"file:///home/hfwittmann/.cache/pypoetry/virtualenvs/myhuggingface-37nujZai-py3.7/lib/python3.7/site-packages/datasets/builder.py\" target=\"_blank\"><span style=\"color: #7f7f7f; text-decoration-color: #7f7f7f\">builder.py</span></a><span style=\"color: #7f7f7f; text-decoration-color: #7f7f7f\">:</span><a href=\"file:///home/hfwittmann/.cache/pypoetry/virtualenvs/myhuggingface-37nujZai-py3.7/lib/python3.7/site-packages/datasets/builder.py#463\" target=\"_blank\"><span style=\"color: #7f7f7f; text-decoration-color: #7f7f7f\">463</span></a>\n",
       "<span style=\"color: #7fbfbf; text-decoration-color: #7fbfbf\">                    </span>         default-f3f1c884e2eea847                          <span style=\"color: #7f7f7f; text-decoration-color: #7f7f7f\">              </span>\n",
       "</pre>\n"
      ],
      "text/plain": [
       "\u001b[2;36m                   \u001b[0m\u001b[2;36m \u001b[0m\u001b[31mWARNING \u001b[0m Using custom data configuration                   \u001b]8;id=931512;file:///home/hfwittmann/.cache/pypoetry/virtualenvs/myhuggingface-37nujZai-py3.7/lib/python3.7/site-packages/datasets/builder.py\u001b\\\u001b[2mbuilder.py\u001b[0m\u001b]8;;\u001b\\\u001b[2m:\u001b[0m\u001b]8;id=8630;file:///home/hfwittmann/.cache/pypoetry/virtualenvs/myhuggingface-37nujZai-py3.7/lib/python3.7/site-packages/datasets/builder.py#463\u001b\\\u001b[2m463\u001b[0m\u001b]8;;\u001b\\\n",
       "\u001b[2;36m                    \u001b[0m         default-f3f1c884e2eea847                          \u001b[2m              \u001b[0m\n"
      ]
     },
     "metadata": {},
     "output_type": "display_data"
    },
    {
     "data": {
      "text/html": [
       "<pre style=\"white-space:pre;overflow-x:auto;line-height:normal;font-family:Menlo,'DejaVu Sans Mono',consolas,'Courier New',monospace\"><span style=\"color: #7fbfbf; text-decoration-color: #7fbfbf\">                    </span><span style=\"color: #800000; text-decoration-color: #800000\">WARNING </span> Reusing dataset csv <span style=\"font-weight: bold\">(</span><span style=\"color: #800080; text-decoration-color: #800080\">/home/hfwittmann/.cache/hugg</span> <a href=\"file:///home/hfwittmann/.cache/pypoetry/virtualenvs/myhuggingface-37nujZai-py3.7/lib/python3.7/site-packages/datasets/builder.py\" target=\"_blank\"><span style=\"color: #7f7f7f; text-decoration-color: #7f7f7f\">builder.py</span></a><span style=\"color: #7f7f7f; text-decoration-color: #7f7f7f\">:</span><a href=\"file:///home/hfwittmann/.cache/pypoetry/virtualenvs/myhuggingface-37nujZai-py3.7/lib/python3.7/site-packages/datasets/builder.py#641\" target=\"_blank\"><span style=\"color: #7f7f7f; text-decoration-color: #7f7f7f\">641</span></a>\n",
       "<span style=\"color: #7fbfbf; text-decoration-color: #7fbfbf\">                    </span>         <span style=\"color: #800080; text-decoration-color: #800080\">ingface/datasets/csv/default-f3f1c884e2eea847/0.0</span> <span style=\"color: #7f7f7f; text-decoration-color: #7f7f7f\">              </span>\n",
       "<span style=\"color: #7fbfbf; text-decoration-color: #7fbfbf\">                    </span>         <span style=\"color: #800080; text-decoration-color: #800080\">.0/</span><span style=\"color: #ff00ff; text-decoration-color: #ff00ff\">51cce309a08df9c4d82ffd9363bbe090bf173197fc01a7</span> <span style=\"color: #7f7f7f; text-decoration-color: #7f7f7f\">              </span>\n",
       "<span style=\"color: #7fbfbf; text-decoration-color: #7fbfbf\">                    </span>         <span style=\"color: #ff00ff; text-decoration-color: #ff00ff\">1b034e8594995a1a58</span><span style=\"font-weight: bold\">)</span>                               <span style=\"color: #7f7f7f; text-decoration-color: #7f7f7f\">              </span>\n",
       "</pre>\n"
      ],
      "text/plain": [
       "\u001b[2;36m                   \u001b[0m\u001b[2;36m \u001b[0m\u001b[31mWARNING \u001b[0m Reusing dataset csv \u001b[1m(\u001b[0m\u001b[35m/home/hfwittmann/.cache/hugg\u001b[0m \u001b]8;id=130495;file:///home/hfwittmann/.cache/pypoetry/virtualenvs/myhuggingface-37nujZai-py3.7/lib/python3.7/site-packages/datasets/builder.py\u001b\\\u001b[2mbuilder.py\u001b[0m\u001b]8;;\u001b\\\u001b[2m:\u001b[0m\u001b]8;id=764654;file:///home/hfwittmann/.cache/pypoetry/virtualenvs/myhuggingface-37nujZai-py3.7/lib/python3.7/site-packages/datasets/builder.py#641\u001b\\\u001b[2m641\u001b[0m\u001b]8;;\u001b\\\n",
       "\u001b[2;36m                    \u001b[0m         \u001b[35mingface/datasets/csv/default-f3f1c884e2eea847/0.0\u001b[0m \u001b[2m              \u001b[0m\n",
       "\u001b[2;36m                    \u001b[0m         \u001b[35m.0/\u001b[0m\u001b[95m51cce309a08df9c4d82ffd9363bbe090bf173197fc01a7\u001b[0m \u001b[2m              \u001b[0m\n",
       "\u001b[2;36m                    \u001b[0m         \u001b[95m1b034e8594995a1a58\u001b[0m\u001b[1m)\u001b[0m                               \u001b[2m              \u001b[0m\n"
      ]
     },
     "metadata": {},
     "output_type": "display_data"
    },
    {
     "data": {
      "application/vnd.jupyter.widget-view+json": {
       "model_id": "bf7c045384494a8bb03f8ea5630a52de",
       "version_major": 2,
       "version_minor": 0
      },
      "text/plain": [
       "  0%|          | 0/3 [00:00<?, ?it/s]"
      ]
     },
     "metadata": {},
     "output_type": "display_data"
    }
   ],
   "source": [
    "dataset_csv = catalog.load('dataset_csv')\n"
   ]
  },
  {
   "cell_type": "code",
   "execution_count": 3,
   "id": "14cd9db5",
   "metadata": {},
   "outputs": [
    {
     "data": {
      "text/html": [
       "<pre style=\"white-space:pre;overflow-x:auto;line-height:normal;font-family:Menlo,'DejaVu Sans Mono',consolas,'Courier New',monospace\">\n",
       "<span style=\"color: #800080; text-decoration-color: #800080; font-weight: bold\">DatasetDict</span><span style=\"font-weight: bold\">({</span>\n",
       "    train: <span style=\"color: #800080; text-decoration-color: #800080; font-weight: bold\">Dataset</span><span style=\"font-weight: bold\">({</span>\n",
       "        features: <span style=\"font-weight: bold\">[</span><span style=\"color: #008000; text-decoration-color: #008000\">'id'</span>, <span style=\"color: #008000; text-decoration-color: #008000\">'tokens'</span>, <span style=\"color: #008000; text-decoration-color: #008000\">'pos_tags'</span>, <span style=\"color: #008000; text-decoration-color: #008000\">'chunk_tags'</span>, <span style=\"color: #008000; text-decoration-color: #008000\">'ner_tags'</span><span style=\"font-weight: bold\">]</span>,\n",
       "        num_rows: <span style=\"color: #008080; text-decoration-color: #008080; font-weight: bold\">14042</span>\n",
       "    <span style=\"font-weight: bold\">})</span>\n",
       "    test: <span style=\"color: #800080; text-decoration-color: #800080; font-weight: bold\">Dataset</span><span style=\"font-weight: bold\">({</span>\n",
       "        features: <span style=\"font-weight: bold\">[</span><span style=\"color: #008000; text-decoration-color: #008000\">'id'</span>, <span style=\"color: #008000; text-decoration-color: #008000\">'tokens'</span>, <span style=\"color: #008000; text-decoration-color: #008000\">'pos_tags'</span>, <span style=\"color: #008000; text-decoration-color: #008000\">'chunk_tags'</span>, <span style=\"color: #008000; text-decoration-color: #008000\">'ner_tags'</span><span style=\"font-weight: bold\">]</span>,\n",
       "        num_rows: <span style=\"color: #008080; text-decoration-color: #008080; font-weight: bold\">3454</span>\n",
       "    <span style=\"font-weight: bold\">})</span>\n",
       "    validation: <span style=\"color: #800080; text-decoration-color: #800080; font-weight: bold\">Dataset</span><span style=\"font-weight: bold\">({</span>\n",
       "        features: <span style=\"font-weight: bold\">[</span><span style=\"color: #008000; text-decoration-color: #008000\">'id'</span>, <span style=\"color: #008000; text-decoration-color: #008000\">'tokens'</span>, <span style=\"color: #008000; text-decoration-color: #008000\">'pos_tags'</span>, <span style=\"color: #008000; text-decoration-color: #008000\">'chunk_tags'</span>, <span style=\"color: #008000; text-decoration-color: #008000\">'ner_tags'</span><span style=\"font-weight: bold\">]</span>,\n",
       "        num_rows: <span style=\"color: #008080; text-decoration-color: #008080; font-weight: bold\">3251</span>\n",
       "    <span style=\"font-weight: bold\">})</span>\n",
       "<span style=\"font-weight: bold\">})</span>\n",
       "</pre>\n"
      ],
      "text/plain": [
       "\n",
       "\u001b[1;35mDatasetDict\u001b[0m\u001b[1m(\u001b[0m\u001b[1m{\u001b[0m\n",
       "    train: \u001b[1;35mDataset\u001b[0m\u001b[1m(\u001b[0m\u001b[1m{\u001b[0m\n",
       "        features: \u001b[1m[\u001b[0m\u001b[32m'id'\u001b[0m, \u001b[32m'tokens'\u001b[0m, \u001b[32m'pos_tags'\u001b[0m, \u001b[32m'chunk_tags'\u001b[0m, \u001b[32m'ner_tags'\u001b[0m\u001b[1m]\u001b[0m,\n",
       "        num_rows: \u001b[1;36m14042\u001b[0m\n",
       "    \u001b[1m}\u001b[0m\u001b[1m)\u001b[0m\n",
       "    test: \u001b[1;35mDataset\u001b[0m\u001b[1m(\u001b[0m\u001b[1m{\u001b[0m\n",
       "        features: \u001b[1m[\u001b[0m\u001b[32m'id'\u001b[0m, \u001b[32m'tokens'\u001b[0m, \u001b[32m'pos_tags'\u001b[0m, \u001b[32m'chunk_tags'\u001b[0m, \u001b[32m'ner_tags'\u001b[0m\u001b[1m]\u001b[0m,\n",
       "        num_rows: \u001b[1;36m3454\u001b[0m\n",
       "    \u001b[1m}\u001b[0m\u001b[1m)\u001b[0m\n",
       "    validation: \u001b[1;35mDataset\u001b[0m\u001b[1m(\u001b[0m\u001b[1m{\u001b[0m\n",
       "        features: \u001b[1m[\u001b[0m\u001b[32m'id'\u001b[0m, \u001b[32m'tokens'\u001b[0m, \u001b[32m'pos_tags'\u001b[0m, \u001b[32m'chunk_tags'\u001b[0m, \u001b[32m'ner_tags'\u001b[0m\u001b[1m]\u001b[0m,\n",
       "        num_rows: \u001b[1;36m3251\u001b[0m\n",
       "    \u001b[1m}\u001b[0m\u001b[1m)\u001b[0m\n",
       "\u001b[1m}\u001b[0m\u001b[1m)\u001b[0m\n"
      ]
     },
     "metadata": {},
     "output_type": "display_data"
    }
   ],
   "source": [
    "dataset_csv"
   ]
  },
  {
   "cell_type": "code",
   "execution_count": 4,
   "id": "35800d26",
   "metadata": {},
   "outputs": [
    {
     "data": {
      "text/html": [
       "<pre style=\"white-space:pre;overflow-x:auto;line-height:normal;font-family:Menlo,'DejaVu Sans Mono',consolas,'Courier New',monospace\">\n",
       "<span style=\"color: #800080; text-decoration-color: #800080; font-weight: bold\">Dataset</span><span style=\"font-weight: bold\">({</span>\n",
       "    features: <span style=\"font-weight: bold\">[</span><span style=\"color: #008000; text-decoration-color: #008000\">'id'</span>, <span style=\"color: #008000; text-decoration-color: #008000\">'tokens'</span>, <span style=\"color: #008000; text-decoration-color: #008000\">'pos_tags'</span>, <span style=\"color: #008000; text-decoration-color: #008000\">'chunk_tags'</span>, <span style=\"color: #008000; text-decoration-color: #008000\">'ner_tags'</span><span style=\"font-weight: bold\">]</span>,\n",
       "    num_rows: <span style=\"color: #008080; text-decoration-color: #008080; font-weight: bold\">14042</span>\n",
       "<span style=\"font-weight: bold\">})</span>\n",
       "</pre>\n"
      ],
      "text/plain": [
       "\n",
       "\u001b[1;35mDataset\u001b[0m\u001b[1m(\u001b[0m\u001b[1m{\u001b[0m\n",
       "    features: \u001b[1m[\u001b[0m\u001b[32m'id'\u001b[0m, \u001b[32m'tokens'\u001b[0m, \u001b[32m'pos_tags'\u001b[0m, \u001b[32m'chunk_tags'\u001b[0m, \u001b[32m'ner_tags'\u001b[0m\u001b[1m]\u001b[0m,\n",
       "    num_rows: \u001b[1;36m14042\u001b[0m\n",
       "\u001b[1m}\u001b[0m\u001b[1m)\u001b[0m\n"
      ]
     },
     "metadata": {},
     "output_type": "display_data"
    }
   ],
   "source": [
    "dataset_csv['train']"
   ]
  },
  {
   "cell_type": "code",
   "execution_count": 12,
   "id": "ed950b5e",
   "metadata": {},
   "outputs": [
    {
     "data": {
      "text/html": [
       "<pre style=\"white-space:pre;overflow-x:auto;line-height:normal;font-family:Menlo,'DejaVu Sans Mono',consolas,'Courier New',monospace\"><span style=\"color: #800000; text-decoration-color: #800000\">╭──────────────────────────── </span><span style=\"color: #800000; text-decoration-color: #800000; font-weight: bold\">Traceback </span><span style=\"color: #bf7f7f; text-decoration-color: #bf7f7f; font-weight: bold\">(most recent call last)</span><span style=\"color: #800000; text-decoration-color: #800000\"> ────────────────────────────╮</span>\n",
       "<span style=\"color: #800000; text-decoration-color: #800000\">│</span> <span style=\"color: #bfbf7f; text-decoration-color: #bfbf7f\">/tmp/ipykernel_176595/</span><span style=\"color: #808000; text-decoration-color: #808000; font-weight: bold\">4085344211.py</span>:<span style=\"color: #0000ff; text-decoration-color: #0000ff\">3</span> in <span style=\"color: #00ff00; text-decoration-color: #00ff00\">&lt;module&gt;</span>                                         <span style=\"color: #800000; text-decoration-color: #800000\">│</span>\n",
       "<span style=\"color: #800000; text-decoration-color: #800000\">│</span>                                                                                           <span style=\"color: #800000; text-decoration-color: #800000\">│</span>\n",
       "<span style=\"color: #800000; text-decoration-color: #800000\">│</span> <span style=\"color: #800000; text-decoration-color: #800000; font-style: italic\">[Errno 2] No such file or directory: '/tmp/ipykernel_176595/4085344211.py'</span>                <span style=\"color: #800000; text-decoration-color: #800000\">│</span>\n",
       "<span style=\"color: #800000; text-decoration-color: #800000\">│</span>                                                                                           <span style=\"color: #800000; text-decoration-color: #800000\">│</span>\n",
       "<span style=\"color: #800000; text-decoration-color: #800000\">│</span> <span style=\"color: #bfbf7f; text-decoration-color: #bfbf7f\">/home/hfwittmann/.cache/pypoetry/virtualenvs/myhuggingface-37nujZai-py3.7/lib/python3.7/s</span> <span style=\"color: #800000; text-decoration-color: #800000\">│</span>\n",
       "<span style=\"color: #800000; text-decoration-color: #800000\">│</span> <span style=\"color: #bfbf7f; text-decoration-color: #bfbf7f\">ite-packages/pandas/core/</span><span style=\"color: #808000; text-decoration-color: #808000; font-weight: bold\">frame.py</span>:<span style=\"color: #0000ff; text-decoration-color: #0000ff\">592</span> in <span style=\"color: #00ff00; text-decoration-color: #00ff00\">__init__</span>                                         <span style=\"color: #800000; text-decoration-color: #800000\">│</span>\n",
       "<span style=\"color: #800000; text-decoration-color: #800000\">│</span>                                                                                           <span style=\"color: #800000; text-decoration-color: #800000\">│</span>\n",
       "<span style=\"color: #800000; text-decoration-color: #800000\">│</span>   <span style=\"color: #7f7f7f; text-decoration-color: #7f7f7f\">  589 │   │   </span><span style=\"color: #0000ff; text-decoration-color: #0000ff\">if</span> data <span style=\"color: #ff00ff; text-decoration-color: #ff00ff\">is</span> <span style=\"color: #0000ff; text-decoration-color: #0000ff\">None</span>:                                                          <span style=\"color: #800000; text-decoration-color: #800000\">│</span>\n",
       "<span style=\"color: #800000; text-decoration-color: #800000\">│</span>   <span style=\"color: #7f7f7f; text-decoration-color: #7f7f7f\">  590 │   │   │   </span>data = {}                                                             <span style=\"color: #800000; text-decoration-color: #800000\">│</span>\n",
       "<span style=\"color: #800000; text-decoration-color: #800000\">│</span>   <span style=\"color: #7f7f7f; text-decoration-color: #7f7f7f\">  591 │   │   </span><span style=\"color: #0000ff; text-decoration-color: #0000ff\">if</span> dtype <span style=\"color: #ff00ff; text-decoration-color: #ff00ff\">is</span> <span style=\"color: #ff00ff; text-decoration-color: #ff00ff\">not</span> <span style=\"color: #0000ff; text-decoration-color: #0000ff\">None</span>:                                                     <span style=\"color: #800000; text-decoration-color: #800000\">│</span>\n",
       "<span style=\"color: #800000; text-decoration-color: #800000\">│</span> <span style=\"color: #800000; text-decoration-color: #800000\">❱ </span>  592 <span style=\"color: #7f7f7f; text-decoration-color: #7f7f7f\">│   │   │   </span>dtype = <span style=\"color: #00ffff; text-decoration-color: #00ffff\">self</span>._validate_dtype(dtype)                                   <span style=\"color: #800000; text-decoration-color: #800000\">│</span>\n",
       "<span style=\"color: #800000; text-decoration-color: #800000\">│</span>   <span style=\"color: #7f7f7f; text-decoration-color: #7f7f7f\">  593 │   │   </span>                                                                          <span style=\"color: #800000; text-decoration-color: #800000\">│</span>\n",
       "<span style=\"color: #800000; text-decoration-color: #800000\">│</span>   <span style=\"color: #7f7f7f; text-decoration-color: #7f7f7f\">  594 │   │   </span><span style=\"color: #0000ff; text-decoration-color: #0000ff\">if</span> <span style=\"color: #00ffff; text-decoration-color: #00ffff\">isinstance</span>(data, DataFrame):                                           <span style=\"color: #800000; text-decoration-color: #800000\">│</span>\n",
       "<span style=\"color: #800000; text-decoration-color: #800000\">│</span>   <span style=\"color: #7f7f7f; text-decoration-color: #7f7f7f\">  595 │   │   │   </span>data = data._mgr                                                      <span style=\"color: #800000; text-decoration-color: #800000\">│</span>\n",
       "<span style=\"color: #800000; text-decoration-color: #800000\">│</span>                                                                                           <span style=\"color: #800000; text-decoration-color: #800000\">│</span>\n",
       "<span style=\"color: #800000; text-decoration-color: #800000\">│</span> <span style=\"color: #808000; text-decoration-color: #808000\">╭──────────────────────────────────── locals ─────────────────────────────────────╮</span>       <span style=\"color: #800000; text-decoration-color: #800000\">│</span>\n",
       "<span style=\"color: #800000; text-decoration-color: #800000\">│</span> <span style=\"color: #808000; text-decoration-color: #808000\">│</span> columns = <span style=\"color: #0000ff; text-decoration-color: #0000ff\">None</span>                                                                  <span style=\"color: #808000; text-decoration-color: #808000\">│</span>       <span style=\"color: #800000; text-decoration-color: #800000\">│</span>\n",
       "<span style=\"color: #800000; text-decoration-color: #800000\">│</span> <span style=\"color: #808000; text-decoration-color: #808000\">│</span>    copy = <span style=\"color: #0000ff; text-decoration-color: #0000ff\">False</span>                                                                 <span style=\"color: #808000; text-decoration-color: #808000\">│</span>       <span style=\"color: #800000; text-decoration-color: #800000\">│</span>\n",
       "<span style=\"color: #800000; text-decoration-color: #800000\">│</span> <span style=\"color: #808000; text-decoration-color: #808000\">│</span>    data = <span style=\"color: #800080; text-decoration-color: #800080; font-weight: bold\">Dataset</span><span style=\"font-weight: bold\">({</span>                                                             <span style=\"color: #808000; text-decoration-color: #808000\">│</span>       <span style=\"color: #800000; text-decoration-color: #800000\">│</span>\n",
       "<span style=\"color: #800000; text-decoration-color: #800000\">│</span> <span style=\"color: #808000; text-decoration-color: #808000\">│</span>           <span style=\"color: #7f7f7f; text-decoration-color: #7f7f7f\">│   </span>features: <span style=\"font-weight: bold\">[</span><span style=\"color: #808000; text-decoration-color: #808000\">'id'</span>, <span style=\"color: #808000; text-decoration-color: #808000\">'tokens'</span>, <span style=\"color: #808000; text-decoration-color: #808000\">'pos_tags'</span>, <span style=\"color: #808000; text-decoration-color: #808000\">'chunk_tags'</span>, <span style=\"color: #808000; text-decoration-color: #808000\">'ner_tags'</span><span style=\"font-weight: bold\">]</span>, <span style=\"color: #808000; text-decoration-color: #808000\">│</span>       <span style=\"color: #800000; text-decoration-color: #800000\">│</span>\n",
       "<span style=\"color: #800000; text-decoration-color: #800000\">│</span> <span style=\"color: #808000; text-decoration-color: #808000\">│</span>           <span style=\"color: #7f7f7f; text-decoration-color: #7f7f7f\">│   </span>num_rows: <span style=\"color: #0000ff; text-decoration-color: #0000ff\">14042</span>                                                   <span style=\"color: #808000; text-decoration-color: #808000\">│</span>       <span style=\"color: #800000; text-decoration-color: #800000\">│</span>\n",
       "<span style=\"color: #800000; text-decoration-color: #800000\">│</span> <span style=\"color: #808000; text-decoration-color: #808000\">│</span>           <span style=\"font-weight: bold\">})</span>                                                                    <span style=\"color: #808000; text-decoration-color: #808000\">│</span>       <span style=\"color: #800000; text-decoration-color: #800000\">│</span>\n",
       "<span style=\"color: #800000; text-decoration-color: #800000\">│</span> <span style=\"color: #808000; text-decoration-color: #808000\">│</span>   dtype = <span style=\"font-weight: bold\">{</span><span style=\"color: #808000; text-decoration-color: #808000\">'tokens'</span>: <span style=\"font-weight: bold\">&lt;</span><span style=\"color: #ff00ff; text-decoration-color: #ff00ff; font-weight: bold\">class</span><span style=\"color: #000000; text-decoration-color: #000000\"> </span><span style=\"color: #808000; text-decoration-color: #808000\">'numpy.float64'</span><span style=\"font-weight: bold\">&gt;}</span>                                   <span style=\"color: #808000; text-decoration-color: #808000\">│</span>       <span style=\"color: #800000; text-decoration-color: #800000\">│</span>\n",
       "<span style=\"color: #800000; text-decoration-color: #800000\">│</span> <span style=\"color: #808000; text-decoration-color: #808000\">│</span>   index = <span style=\"color: #0000ff; text-decoration-color: #0000ff\">None</span>                                                                  <span style=\"color: #808000; text-decoration-color: #808000\">│</span>       <span style=\"color: #800000; text-decoration-color: #800000\">│</span>\n",
       "<span style=\"color: #800000; text-decoration-color: #800000\">│</span> <span style=\"color: #808000; text-decoration-color: #808000\">│</span>    self = <span style=\"font-weight: bold\">&lt;</span><span style=\"color: #ff00ff; text-decoration-color: #ff00ff; font-weight: bold\">repr-error</span><span style=\"color: #000000; text-decoration-color: #000000\"> </span><span style=\"color: #808000; text-decoration-color: #808000\">\"'DataFrame' object has no attribute '_mgr'\"</span><span style=\"font-weight: bold\">&gt;</span>             <span style=\"color: #808000; text-decoration-color: #808000\">│</span>       <span style=\"color: #800000; text-decoration-color: #800000\">│</span>\n",
       "<span style=\"color: #800000; text-decoration-color: #800000\">│</span> <span style=\"color: #808000; text-decoration-color: #808000\">╰─────────────────────────────────────────────────────────────────────────────────╯</span>       <span style=\"color: #800000; text-decoration-color: #800000\">│</span>\n",
       "<span style=\"color: #800000; text-decoration-color: #800000\">│</span>                                                                                           <span style=\"color: #800000; text-decoration-color: #800000\">│</span>\n",
       "<span style=\"color: #800000; text-decoration-color: #800000\">│</span> <span style=\"color: #bfbf7f; text-decoration-color: #bfbf7f\">/home/hfwittmann/.cache/pypoetry/virtualenvs/myhuggingface-37nujZai-py3.7/lib/python3.7/s</span> <span style=\"color: #800000; text-decoration-color: #800000\">│</span>\n",
       "<span style=\"color: #800000; text-decoration-color: #800000\">│</span> <span style=\"color: #bfbf7f; text-decoration-color: #bfbf7f\">ite-packages/pandas/core/</span><span style=\"color: #808000; text-decoration-color: #808000; font-weight: bold\">generic.py</span>:<span style=\"color: #0000ff; text-decoration-color: #0000ff\">442</span> in <span style=\"color: #00ff00; text-decoration-color: #00ff00\">_validate_dtype</span>                                <span style=\"color: #800000; text-decoration-color: #800000\">│</span>\n",
       "<span style=\"color: #800000; text-decoration-color: #800000\">│</span>                                                                                           <span style=\"color: #800000; text-decoration-color: #800000\">│</span>\n",
       "<span style=\"color: #800000; text-decoration-color: #800000\">│</span>   <span style=\"color: #7f7f7f; text-decoration-color: #7f7f7f\">  439 │   </span><span style=\"color: #0000ff; text-decoration-color: #0000ff\">def</span> <span style=\"color: #00ff00; text-decoration-color: #00ff00\">_validate_dtype</span>(<span style=\"color: #00ffff; text-decoration-color: #00ffff\">cls</span>, dtype) -&gt; DtypeObj | <span style=\"color: #0000ff; text-decoration-color: #0000ff\">None</span>:                           <span style=\"color: #800000; text-decoration-color: #800000\">│</span>\n",
       "<span style=\"color: #800000; text-decoration-color: #800000\">│</span>   <span style=\"color: #7f7f7f; text-decoration-color: #7f7f7f\">  440 │   │   </span><span style=\"color: #808000; text-decoration-color: #808000\">\"\"\"validate the passed dtype\"\"\"</span>                                           <span style=\"color: #800000; text-decoration-color: #800000\">│</span>\n",
       "<span style=\"color: #800000; text-decoration-color: #800000\">│</span>   <span style=\"color: #7f7f7f; text-decoration-color: #7f7f7f\">  441 │   │   </span><span style=\"color: #0000ff; text-decoration-color: #0000ff\">if</span> dtype <span style=\"color: #ff00ff; text-decoration-color: #ff00ff\">is</span> <span style=\"color: #ff00ff; text-decoration-color: #ff00ff\">not</span> <span style=\"color: #0000ff; text-decoration-color: #0000ff\">None</span>:                                                     <span style=\"color: #800000; text-decoration-color: #800000\">│</span>\n",
       "<span style=\"color: #800000; text-decoration-color: #800000\">│</span> <span style=\"color: #800000; text-decoration-color: #800000\">❱ </span>  442 <span style=\"color: #7f7f7f; text-decoration-color: #7f7f7f\">│   │   │   </span>dtype = pandas_dtype(dtype)                                           <span style=\"color: #800000; text-decoration-color: #800000\">│</span>\n",
       "<span style=\"color: #800000; text-decoration-color: #800000\">│</span>   <span style=\"color: #7f7f7f; text-decoration-color: #7f7f7f\">  443 │   │   │   </span>                                                                      <span style=\"color: #800000; text-decoration-color: #800000\">│</span>\n",
       "<span style=\"color: #800000; text-decoration-color: #800000\">│</span>   <span style=\"color: #7f7f7f; text-decoration-color: #7f7f7f\">  444 │   │   │   # a compound dtype</span>                                                    <span style=\"color: #800000; text-decoration-color: #800000\">│</span>\n",
       "<span style=\"color: #800000; text-decoration-color: #800000\">│</span>   <span style=\"color: #7f7f7f; text-decoration-color: #7f7f7f\">  445 │   │   │   </span><span style=\"color: #0000ff; text-decoration-color: #0000ff\">if</span> dtype.kind == <span style=\"color: #808000; text-decoration-color: #808000\">\"V\"</span>:                                                 <span style=\"color: #800000; text-decoration-color: #800000\">│</span>\n",
       "<span style=\"color: #800000; text-decoration-color: #800000\">│</span>                                                                                           <span style=\"color: #800000; text-decoration-color: #800000\">│</span>\n",
       "<span style=\"color: #800000; text-decoration-color: #800000\">│</span> <span style=\"color: #808000; text-decoration-color: #808000\">╭─────────────────── locals ────────────────────╮</span>                                         <span style=\"color: #800000; text-decoration-color: #800000\">│</span>\n",
       "<span style=\"color: #800000; text-decoration-color: #800000\">│</span> <span style=\"color: #808000; text-decoration-color: #808000\">│</span>   cls = <span style=\"font-weight: bold\">&lt;</span><span style=\"color: #ff00ff; text-decoration-color: #ff00ff; font-weight: bold\">class</span><span style=\"color: #000000; text-decoration-color: #000000\"> </span><span style=\"color: #808000; text-decoration-color: #808000\">'pandas.core.frame.DataFrame'</span><span style=\"font-weight: bold\">&gt;</span> <span style=\"color: #808000; text-decoration-color: #808000\">│</span>                                         <span style=\"color: #800000; text-decoration-color: #800000\">│</span>\n",
       "<span style=\"color: #800000; text-decoration-color: #800000\">│</span> <span style=\"color: #808000; text-decoration-color: #808000\">│</span> dtype = <span style=\"font-weight: bold\">{</span><span style=\"color: #808000; text-decoration-color: #808000\">'tokens'</span>: <span style=\"font-weight: bold\">&lt;</span><span style=\"color: #ff00ff; text-decoration-color: #ff00ff; font-weight: bold\">class</span><span style=\"color: #000000; text-decoration-color: #000000\"> </span><span style=\"color: #808000; text-decoration-color: #808000\">'numpy.float64'</span><span style=\"font-weight: bold\">&gt;}</span>   <span style=\"color: #808000; text-decoration-color: #808000\">│</span>                                         <span style=\"color: #800000; text-decoration-color: #800000\">│</span>\n",
       "<span style=\"color: #800000; text-decoration-color: #800000\">│</span> <span style=\"color: #808000; text-decoration-color: #808000\">╰───────────────────────────────────────────────╯</span>                                         <span style=\"color: #800000; text-decoration-color: #800000\">│</span>\n",
       "<span style=\"color: #800000; text-decoration-color: #800000\">│</span>                                                                                           <span style=\"color: #800000; text-decoration-color: #800000\">│</span>\n",
       "<span style=\"color: #800000; text-decoration-color: #800000\">│</span> <span style=\"color: #bfbf7f; text-decoration-color: #bfbf7f\">/home/hfwittmann/.cache/pypoetry/virtualenvs/myhuggingface-37nujZai-py3.7/lib/python3.7/s</span> <span style=\"color: #800000; text-decoration-color: #800000\">│</span>\n",
       "<span style=\"color: #800000; text-decoration-color: #800000\">│</span> <span style=\"color: #bfbf7f; text-decoration-color: #bfbf7f\">ite-packages/pandas/core/dtypes/</span><span style=\"color: #808000; text-decoration-color: #808000; font-weight: bold\">common.py</span>:<span style=\"color: #0000ff; text-decoration-color: #0000ff\">1776</span> in <span style=\"color: #00ff00; text-decoration-color: #00ff00\">pandas_dtype</span>                            <span style=\"color: #800000; text-decoration-color: #800000\">│</span>\n",
       "<span style=\"color: #800000; text-decoration-color: #800000\">│</span>                                                                                           <span style=\"color: #800000; text-decoration-color: #800000\">│</span>\n",
       "<span style=\"color: #800000; text-decoration-color: #800000\">│</span>   <span style=\"color: #7f7f7f; text-decoration-color: #7f7f7f\">1773 │   # try a numpy dtype</span>                                                            <span style=\"color: #800000; text-decoration-color: #800000\">│</span>\n",
       "<span style=\"color: #800000; text-decoration-color: #800000\">│</span>   <span style=\"color: #7f7f7f; text-decoration-color: #7f7f7f\">1774 │   # raise a consistent TypeError if failed</span>                                       <span style=\"color: #800000; text-decoration-color: #800000\">│</span>\n",
       "<span style=\"color: #800000; text-decoration-color: #800000\">│</span>   <span style=\"color: #7f7f7f; text-decoration-color: #7f7f7f\">1775 │   </span><span style=\"color: #0000ff; text-decoration-color: #0000ff\">try</span>:                                                                           <span style=\"color: #800000; text-decoration-color: #800000\">│</span>\n",
       "<span style=\"color: #800000; text-decoration-color: #800000\">│</span> <span style=\"color: #800000; text-decoration-color: #800000\">❱ </span>1776 <span style=\"color: #7f7f7f; text-decoration-color: #7f7f7f\">│   │   </span>npdtype = np.dtype(dtype)                                                  <span style=\"color: #800000; text-decoration-color: #800000\">│</span>\n",
       "<span style=\"color: #800000; text-decoration-color: #800000\">│</span>   <span style=\"color: #7f7f7f; text-decoration-color: #7f7f7f\">1777 │   </span><span style=\"color: #0000ff; text-decoration-color: #0000ff\">except</span> <span style=\"color: #00ffff; text-decoration-color: #00ffff\">SyntaxError</span> <span style=\"color: #0000ff; text-decoration-color: #0000ff\">as</span> err:                                                     <span style=\"color: #800000; text-decoration-color: #800000\">│</span>\n",
       "<span style=\"color: #800000; text-decoration-color: #800000\">│</span>   <span style=\"color: #7f7f7f; text-decoration-color: #7f7f7f\">1778 │   │   # np.dtype uses `eval` which can raise SyntaxError</span>                         <span style=\"color: #800000; text-decoration-color: #800000\">│</span>\n",
       "<span style=\"color: #800000; text-decoration-color: #800000\">│</span>   <span style=\"color: #7f7f7f; text-decoration-color: #7f7f7f\">1779 │   │   </span><span style=\"color: #0000ff; text-decoration-color: #0000ff\">raise</span> <span style=\"color: #00ffff; text-decoration-color: #00ffff\">TypeError</span>(<span style=\"color: #808000; text-decoration-color: #808000\">f\"data type '{</span>dtype<span style=\"color: #808000; text-decoration-color: #808000\">}' not understood\"</span>) <span style=\"color: #0000ff; text-decoration-color: #0000ff\">from</span> <span style=\"color: #00ffff; text-decoration-color: #00ffff; text-decoration: underline\">err</span>            <span style=\"color: #800000; text-decoration-color: #800000\">│</span>\n",
       "<span style=\"color: #800000; text-decoration-color: #800000\">│</span>                                                                                           <span style=\"color: #800000; text-decoration-color: #800000\">│</span>\n",
       "<span style=\"color: #800000; text-decoration-color: #800000\">│</span> <span style=\"color: #808000; text-decoration-color: #808000\">╭─────────────────── locals ───────────────────╮</span>                                          <span style=\"color: #800000; text-decoration-color: #800000\">│</span>\n",
       "<span style=\"color: #800000; text-decoration-color: #800000\">│</span> <span style=\"color: #808000; text-decoration-color: #808000\">│</span>  dtype = <span style=\"font-weight: bold\">{</span><span style=\"color: #808000; text-decoration-color: #808000\">'tokens'</span>: <span style=\"font-weight: bold\">&lt;</span><span style=\"color: #ff00ff; text-decoration-color: #ff00ff; font-weight: bold\">class</span><span style=\"color: #000000; text-decoration-color: #000000\"> </span><span style=\"color: #808000; text-decoration-color: #808000\">'numpy.float64'</span><span style=\"font-weight: bold\">&gt;}</span> <span style=\"color: #808000; text-decoration-color: #808000\">│</span>                                          <span style=\"color: #800000; text-decoration-color: #800000\">│</span>\n",
       "<span style=\"color: #800000; text-decoration-color: #800000\">│</span> <span style=\"color: #808000; text-decoration-color: #808000\">│</span> result = <span style=\"color: #0000ff; text-decoration-color: #0000ff\">None</span>                                <span style=\"color: #808000; text-decoration-color: #808000\">│</span>                                          <span style=\"color: #800000; text-decoration-color: #800000\">│</span>\n",
       "<span style=\"color: #800000; text-decoration-color: #800000\">│</span> <span style=\"color: #808000; text-decoration-color: #808000\">╰──────────────────────────────────────────────╯</span>                                          <span style=\"color: #800000; text-decoration-color: #800000\">│</span>\n",
       "<span style=\"color: #800000; text-decoration-color: #800000\">│</span>                                                                                           <span style=\"color: #800000; text-decoration-color: #800000\">│</span>\n",
       "<span style=\"color: #800000; text-decoration-color: #800000\">│</span> <span style=\"color: #bfbf7f; text-decoration-color: #bfbf7f\">/home/hfwittmann/.cache/pypoetry/virtualenvs/myhuggingface-37nujZai-py3.7/lib/python3.7/s</span> <span style=\"color: #800000; text-decoration-color: #800000\">│</span>\n",
       "<span style=\"color: #800000; text-decoration-color: #800000\">│</span> <span style=\"color: #bfbf7f; text-decoration-color: #bfbf7f\">ite-packages/numpy/core/</span><span style=\"color: #808000; text-decoration-color: #808000; font-weight: bold\">_internal.py</span>:<span style=\"color: #0000ff; text-decoration-color: #0000ff\">62</span> in <span style=\"color: #00ff00; text-decoration-color: #00ff00\">_usefields</span>                                     <span style=\"color: #800000; text-decoration-color: #800000\">│</span>\n",
       "<span style=\"color: #800000; text-decoration-color: #800000\">│</span>                                                                                           <span style=\"color: #800000; text-decoration-color: #800000\">│</span>\n",
       "<span style=\"color: #800000; text-decoration-color: #800000\">│</span>   <span style=\"color: #7f7f7f; text-decoration-color: #7f7f7f\"> 59 │   </span><span style=\"color: #0000ff; text-decoration-color: #0000ff\">except</span> <span style=\"color: #00ffff; text-decoration-color: #00ffff\">KeyError</span>:                                                                <span style=\"color: #800000; text-decoration-color: #800000\">│</span>\n",
       "<span style=\"color: #800000; text-decoration-color: #800000\">│</span>   <span style=\"color: #7f7f7f; text-decoration-color: #7f7f7f\"> 60 │   │   </span>names = <span style=\"color: #0000ff; text-decoration-color: #0000ff\">None</span>                                                                <span style=\"color: #800000; text-decoration-color: #800000\">│</span>\n",
       "<span style=\"color: #800000; text-decoration-color: #800000\">│</span>   <span style=\"color: #7f7f7f; text-decoration-color: #7f7f7f\"> 61 │   </span><span style=\"color: #0000ff; text-decoration-color: #0000ff\">if</span> names <span style=\"color: #ff00ff; text-decoration-color: #ff00ff\">is</span> <span style=\"color: #0000ff; text-decoration-color: #0000ff\">None</span>:                                                               <span style=\"color: #800000; text-decoration-color: #800000\">│</span>\n",
       "<span style=\"color: #800000; text-decoration-color: #800000\">│</span> <span style=\"color: #800000; text-decoration-color: #800000\">❱ </span> 62 <span style=\"color: #7f7f7f; text-decoration-color: #7f7f7f\">│   │   </span>names, formats, offsets, titles = _makenames_list(adict, align)             <span style=\"color: #800000; text-decoration-color: #800000\">│</span>\n",
       "<span style=\"color: #800000; text-decoration-color: #800000\">│</span>   <span style=\"color: #7f7f7f; text-decoration-color: #7f7f7f\"> 63 │   </span><span style=\"color: #0000ff; text-decoration-color: #0000ff\">else</span>:                                                                           <span style=\"color: #800000; text-decoration-color: #800000\">│</span>\n",
       "<span style=\"color: #800000; text-decoration-color: #800000\">│</span>   <span style=\"color: #7f7f7f; text-decoration-color: #7f7f7f\"> 64 │   │   </span>formats = []                                                                <span style=\"color: #800000; text-decoration-color: #800000\">│</span>\n",
       "<span style=\"color: #800000; text-decoration-color: #800000\">│</span>   <span style=\"color: #7f7f7f; text-decoration-color: #7f7f7f\"> 65 │   │   </span>offsets = []                                                                <span style=\"color: #800000; text-decoration-color: #800000\">│</span>\n",
       "<span style=\"color: #800000; text-decoration-color: #800000\">│</span>                                                                                           <span style=\"color: #800000; text-decoration-color: #800000\">│</span>\n",
       "<span style=\"color: #800000; text-decoration-color: #800000\">│</span> <span style=\"color: #808000; text-decoration-color: #808000\">╭────────────────── locals ───────────────────╮</span>                                           <span style=\"color: #800000; text-decoration-color: #800000\">│</span>\n",
       "<span style=\"color: #800000; text-decoration-color: #800000\">│</span> <span style=\"color: #808000; text-decoration-color: #808000\">│</span> adict = <span style=\"font-weight: bold\">{</span><span style=\"color: #808000; text-decoration-color: #808000\">'tokens'</span>: <span style=\"font-weight: bold\">&lt;</span><span style=\"color: #ff00ff; text-decoration-color: #ff00ff; font-weight: bold\">class</span><span style=\"color: #000000; text-decoration-color: #000000\"> </span><span style=\"color: #808000; text-decoration-color: #808000\">'numpy.float64'</span><span style=\"font-weight: bold\">&gt;}</span> <span style=\"color: #808000; text-decoration-color: #808000\">│</span>                                           <span style=\"color: #800000; text-decoration-color: #800000\">│</span>\n",
       "<span style=\"color: #800000; text-decoration-color: #800000\">│</span> <span style=\"color: #808000; text-decoration-color: #808000\">│</span> align = <span style=\"color: #0000ff; text-decoration-color: #0000ff\">0</span>                                   <span style=\"color: #808000; text-decoration-color: #808000\">│</span>                                           <span style=\"color: #800000; text-decoration-color: #800000\">│</span>\n",
       "<span style=\"color: #800000; text-decoration-color: #800000\">│</span> <span style=\"color: #808000; text-decoration-color: #808000\">│</span> names = <span style=\"color: #0000ff; text-decoration-color: #0000ff\">None</span>                                <span style=\"color: #808000; text-decoration-color: #808000\">│</span>                                           <span style=\"color: #800000; text-decoration-color: #800000\">│</span>\n",
       "<span style=\"color: #800000; text-decoration-color: #800000\">│</span> <span style=\"color: #808000; text-decoration-color: #808000\">╰─────────────────────────────────────────────╯</span>                                           <span style=\"color: #800000; text-decoration-color: #800000\">│</span>\n",
       "<span style=\"color: #800000; text-decoration-color: #800000\">│</span>                                                                                           <span style=\"color: #800000; text-decoration-color: #800000\">│</span>\n",
       "<span style=\"color: #800000; text-decoration-color: #800000\">│</span> <span style=\"color: #bfbf7f; text-decoration-color: #bfbf7f\">/home/hfwittmann/.cache/pypoetry/virtualenvs/myhuggingface-37nujZai-py3.7/lib/python3.7/s</span> <span style=\"color: #800000; text-decoration-color: #800000\">│</span>\n",
       "<span style=\"color: #800000; text-decoration-color: #800000\">│</span> <span style=\"color: #bfbf7f; text-decoration-color: #bfbf7f\">ite-packages/numpy/core/</span><span style=\"color: #808000; text-decoration-color: #808000; font-weight: bold\">_internal.py</span>:<span style=\"color: #0000ff; text-decoration-color: #0000ff\">30</span> in <span style=\"color: #00ff00; text-decoration-color: #00ff00\">_makenames_list</span>                                <span style=\"color: #800000; text-decoration-color: #800000\">│</span>\n",
       "<span style=\"color: #800000; text-decoration-color: #800000\">│</span>                                                                                           <span style=\"color: #800000; text-decoration-color: #800000\">│</span>\n",
       "<span style=\"color: #800000; text-decoration-color: #800000\">│</span>   <span style=\"color: #7f7f7f; text-decoration-color: #7f7f7f\"> 27 │   </span>allfields = []                                                                  <span style=\"color: #800000; text-decoration-color: #800000\">│</span>\n",
       "<span style=\"color: #800000; text-decoration-color: #800000\">│</span>   <span style=\"color: #7f7f7f; text-decoration-color: #7f7f7f\"> 28 │   </span>                                                                                <span style=\"color: #800000; text-decoration-color: #800000\">│</span>\n",
       "<span style=\"color: #800000; text-decoration-color: #800000\">│</span>   <span style=\"color: #7f7f7f; text-decoration-color: #7f7f7f\"> 29 │   </span><span style=\"color: #0000ff; text-decoration-color: #0000ff\">for</span> fname, obj <span style=\"color: #ff00ff; text-decoration-color: #ff00ff\">in</span> adict.items():                                                <span style=\"color: #800000; text-decoration-color: #800000\">│</span>\n",
       "<span style=\"color: #800000; text-decoration-color: #800000\">│</span> <span style=\"color: #800000; text-decoration-color: #800000\">❱ </span> 30 <span style=\"color: #7f7f7f; text-decoration-color: #7f7f7f\">│   │   </span>n = <span style=\"color: #00ffff; text-decoration-color: #00ffff\">len</span>(obj)                                                                <span style=\"color: #800000; text-decoration-color: #800000\">│</span>\n",
       "<span style=\"color: #800000; text-decoration-color: #800000\">│</span>   <span style=\"color: #7f7f7f; text-decoration-color: #7f7f7f\"> 31 │   │   </span><span style=\"color: #0000ff; text-decoration-color: #0000ff\">if</span> <span style=\"color: #ff00ff; text-decoration-color: #ff00ff\">not</span> <span style=\"color: #00ffff; text-decoration-color: #00ffff\">isinstance</span>(obj, <span style=\"color: #00ffff; text-decoration-color: #00ffff\">tuple</span>) <span style=\"color: #ff00ff; text-decoration-color: #ff00ff\">or</span> n <span style=\"color: #ff00ff; text-decoration-color: #ff00ff\">not</span> <span style=\"color: #ff00ff; text-decoration-color: #ff00ff\">in</span> (<span style=\"color: #0000ff; text-decoration-color: #0000ff\">2</span>, <span style=\"color: #0000ff; text-decoration-color: #0000ff\">3</span>):                           <span style=\"color: #800000; text-decoration-color: #800000\">│</span>\n",
       "<span style=\"color: #800000; text-decoration-color: #800000\">│</span>   <span style=\"color: #7f7f7f; text-decoration-color: #7f7f7f\"> 32 │   │   │   </span><span style=\"color: #0000ff; text-decoration-color: #0000ff\">raise</span> <span style=\"color: #00ffff; text-decoration-color: #00ffff\">ValueError</span>(<span style=\"color: #808000; text-decoration-color: #808000\">\"entry not a 2- or 3- tuple\"</span>)                          <span style=\"color: #800000; text-decoration-color: #800000\">│</span>\n",
       "<span style=\"color: #800000; text-decoration-color: #800000\">│</span>   <span style=\"color: #7f7f7f; text-decoration-color: #7f7f7f\"> 33 │   │   </span><span style=\"color: #0000ff; text-decoration-color: #0000ff\">if</span> n &gt; <span style=\"color: #0000ff; text-decoration-color: #0000ff\">2</span> <span style=\"color: #ff00ff; text-decoration-color: #ff00ff\">and</span> obj[<span style=\"color: #0000ff; text-decoration-color: #0000ff\">2</span>] == fname:                                               <span style=\"color: #800000; text-decoration-color: #800000\">│</span>\n",
       "<span style=\"color: #800000; text-decoration-color: #800000\">│</span>                                                                                           <span style=\"color: #800000; text-decoration-color: #800000\">│</span>\n",
       "<span style=\"color: #800000; text-decoration-color: #800000\">│</span> <span style=\"color: #808000; text-decoration-color: #808000\">╭──────────────────── locals ─────────────────────╮</span>                                       <span style=\"color: #800000; text-decoration-color: #800000\">│</span>\n",
       "<span style=\"color: #800000; text-decoration-color: #800000\">│</span> <span style=\"color: #808000; text-decoration-color: #808000\">│</span>     adict = <span style=\"font-weight: bold\">{</span><span style=\"color: #808000; text-decoration-color: #808000\">'tokens'</span>: <span style=\"font-weight: bold\">&lt;</span><span style=\"color: #ff00ff; text-decoration-color: #ff00ff; font-weight: bold\">class</span><span style=\"color: #000000; text-decoration-color: #000000\"> </span><span style=\"color: #808000; text-decoration-color: #808000\">'numpy.float64'</span><span style=\"font-weight: bold\">&gt;}</span> <span style=\"color: #808000; text-decoration-color: #808000\">│</span>                                       <span style=\"color: #800000; text-decoration-color: #800000\">│</span>\n",
       "<span style=\"color: #800000; text-decoration-color: #800000\">│</span> <span style=\"color: #808000; text-decoration-color: #808000\">│</span>     align = <span style=\"color: #0000ff; text-decoration-color: #0000ff\">0</span>                                   <span style=\"color: #808000; text-decoration-color: #808000\">│</span>                                       <span style=\"color: #800000; text-decoration-color: #800000\">│</span>\n",
       "<span style=\"color: #800000; text-decoration-color: #800000\">│</span> <span style=\"color: #808000; text-decoration-color: #808000\">│</span> allfields = <span style=\"font-weight: bold\">[]</span>                                  <span style=\"color: #808000; text-decoration-color: #808000\">│</span>                                       <span style=\"color: #800000; text-decoration-color: #800000\">│</span>\n",
       "<span style=\"color: #800000; text-decoration-color: #800000\">│</span> <span style=\"color: #808000; text-decoration-color: #808000\">│</span>     fname = <span style=\"color: #808000; text-decoration-color: #808000\">'tokens'</span>                            <span style=\"color: #808000; text-decoration-color: #808000\">│</span>                                       <span style=\"color: #800000; text-decoration-color: #800000\">│</span>\n",
       "<span style=\"color: #800000; text-decoration-color: #800000\">│</span> <span style=\"color: #808000; text-decoration-color: #808000\">│</span>       obj = <span style=\"font-weight: bold\">&lt;</span><span style=\"color: #ff00ff; text-decoration-color: #ff00ff; font-weight: bold\">class</span><span style=\"color: #000000; text-decoration-color: #000000\"> </span><span style=\"color: #808000; text-decoration-color: #808000\">'numpy.float64'</span><span style=\"font-weight: bold\">&gt;</span>             <span style=\"color: #808000; text-decoration-color: #808000\">│</span>                                       <span style=\"color: #800000; text-decoration-color: #800000\">│</span>\n",
       "<span style=\"color: #800000; text-decoration-color: #800000\">│</span> <span style=\"color: #808000; text-decoration-color: #808000\">╰─────────────────────────────────────────────────╯</span>                                       <span style=\"color: #800000; text-decoration-color: #800000\">│</span>\n",
       "<span style=\"color: #800000; text-decoration-color: #800000\">╰───────────────────────────────────────────────────────────────────────────────────────────╯</span>\n",
       "<span style=\"color: #ff0000; text-decoration-color: #ff0000; font-weight: bold\">TypeError: </span>object of type <span style=\"color: #008000; text-decoration-color: #008000\">'type'</span> has no <span style=\"color: #800080; text-decoration-color: #800080; font-weight: bold\">len</span><span style=\"font-weight: bold\">()</span>\n",
       "</pre>\n"
      ],
      "text/plain": [
       "\u001b[31m╭─\u001b[0m\u001b[31m─────────────────────────── \u001b[0m\u001b[1;31mTraceback \u001b[0m\u001b[1;2;31m(most recent call last)\u001b[0m\u001b[31m ───────────────────────────\u001b[0m\u001b[31m─╮\u001b[0m\n",
       "\u001b[31m│\u001b[0m \u001b[2;33m/tmp/ipykernel_176595/\u001b[0m\u001b[1;33m4085344211.py\u001b[0m:\u001b[94m3\u001b[0m in \u001b[92m<module>\u001b[0m                                         \u001b[31m│\u001b[0m\n",
       "\u001b[31m│\u001b[0m                                                                                           \u001b[31m│\u001b[0m\n",
       "\u001b[31m│\u001b[0m \u001b[3;31m[Errno 2] No such file or directory: '/tmp/ipykernel_176595/4085344211.py'\u001b[0m                \u001b[31m│\u001b[0m\n",
       "\u001b[31m│\u001b[0m                                                                                           \u001b[31m│\u001b[0m\n",
       "\u001b[31m│\u001b[0m \u001b[2;33m/home/hfwittmann/.cache/pypoetry/virtualenvs/myhuggingface-37nujZai-py3.7/lib/python3.7/s\u001b[0m \u001b[31m│\u001b[0m\n",
       "\u001b[31m│\u001b[0m \u001b[2;33mite-packages/pandas/core/\u001b[0m\u001b[1;33mframe.py\u001b[0m:\u001b[94m592\u001b[0m in \u001b[92m__init__\u001b[0m                                         \u001b[31m│\u001b[0m\n",
       "\u001b[31m│\u001b[0m                                                                                           \u001b[31m│\u001b[0m\n",
       "\u001b[31m│\u001b[0m   \u001b[2m  589 \u001b[0m\u001b[2m│   │   \u001b[0m\u001b[94mif\u001b[0m data \u001b[95mis\u001b[0m \u001b[94mNone\u001b[0m:                                                          \u001b[31m│\u001b[0m\n",
       "\u001b[31m│\u001b[0m   \u001b[2m  590 \u001b[0m\u001b[2m│   │   │   \u001b[0mdata = {}                                                             \u001b[31m│\u001b[0m\n",
       "\u001b[31m│\u001b[0m   \u001b[2m  591 \u001b[0m\u001b[2m│   │   \u001b[0m\u001b[94mif\u001b[0m dtype \u001b[95mis\u001b[0m \u001b[95mnot\u001b[0m \u001b[94mNone\u001b[0m:                                                     \u001b[31m│\u001b[0m\n",
       "\u001b[31m│\u001b[0m \u001b[31m❱ \u001b[0m  592 \u001b[2m│   │   │   \u001b[0mdtype = \u001b[96mself\u001b[0m._validate_dtype(dtype)                                   \u001b[31m│\u001b[0m\n",
       "\u001b[31m│\u001b[0m   \u001b[2m  593 \u001b[0m\u001b[2m│   │   \u001b[0m                                                                          \u001b[31m│\u001b[0m\n",
       "\u001b[31m│\u001b[0m   \u001b[2m  594 \u001b[0m\u001b[2m│   │   \u001b[0m\u001b[94mif\u001b[0m \u001b[96misinstance\u001b[0m(data, DataFrame):                                           \u001b[31m│\u001b[0m\n",
       "\u001b[31m│\u001b[0m   \u001b[2m  595 \u001b[0m\u001b[2m│   │   │   \u001b[0mdata = data._mgr                                                      \u001b[31m│\u001b[0m\n",
       "\u001b[31m│\u001b[0m                                                                                           \u001b[31m│\u001b[0m\n",
       "\u001b[31m│\u001b[0m \u001b[33m╭─\u001b[0m\u001b[33m─────────────────────────────────── locals ────────────────────────────────────\u001b[0m\u001b[33m─╮\u001b[0m       \u001b[31m│\u001b[0m\n",
       "\u001b[31m│\u001b[0m \u001b[33m│\u001b[0m columns = \u001b[94mNone\u001b[0m                                                                  \u001b[33m│\u001b[0m       \u001b[31m│\u001b[0m\n",
       "\u001b[31m│\u001b[0m \u001b[33m│\u001b[0m    copy = \u001b[94mFalse\u001b[0m                                                                 \u001b[33m│\u001b[0m       \u001b[31m│\u001b[0m\n",
       "\u001b[31m│\u001b[0m \u001b[33m│\u001b[0m    data = \u001b[1;35mDataset\u001b[0m\u001b[1m(\u001b[0m\u001b[1m{\u001b[0m                                                             \u001b[33m│\u001b[0m       \u001b[31m│\u001b[0m\n",
       "\u001b[31m│\u001b[0m \u001b[33m│\u001b[0m           \u001b[2m│   \u001b[0mfeatures: \u001b[1m[\u001b[0m\u001b[33m'id'\u001b[0m, \u001b[33m'tokens'\u001b[0m, \u001b[33m'pos_tags'\u001b[0m, \u001b[33m'chunk_tags'\u001b[0m, \u001b[33m'ner_tags'\u001b[0m\u001b[1m]\u001b[0m, \u001b[33m│\u001b[0m       \u001b[31m│\u001b[0m\n",
       "\u001b[31m│\u001b[0m \u001b[33m│\u001b[0m           \u001b[2m│   \u001b[0mnum_rows: \u001b[94m14042\u001b[0m                                                   \u001b[33m│\u001b[0m       \u001b[31m│\u001b[0m\n",
       "\u001b[31m│\u001b[0m \u001b[33m│\u001b[0m           \u001b[1m}\u001b[0m\u001b[1m)\u001b[0m                                                                    \u001b[33m│\u001b[0m       \u001b[31m│\u001b[0m\n",
       "\u001b[31m│\u001b[0m \u001b[33m│\u001b[0m   dtype = \u001b[1m{\u001b[0m\u001b[33m'tokens'\u001b[0m: \u001b[1m<\u001b[0m\u001b[1;95mclass\u001b[0m\u001b[39m \u001b[0m\u001b[33m'numpy.float64'\u001b[0m\u001b[1m>\u001b[0m\u001b[1m}\u001b[0m                                   \u001b[33m│\u001b[0m       \u001b[31m│\u001b[0m\n",
       "\u001b[31m│\u001b[0m \u001b[33m│\u001b[0m   index = \u001b[94mNone\u001b[0m                                                                  \u001b[33m│\u001b[0m       \u001b[31m│\u001b[0m\n",
       "\u001b[31m│\u001b[0m \u001b[33m│\u001b[0m    self = \u001b[1m<\u001b[0m\u001b[1;95mrepr-error\u001b[0m\u001b[39m \u001b[0m\u001b[33m\"'DataFrame' object has no attribute '_mgr'\"\u001b[0m\u001b[1m>\u001b[0m             \u001b[33m│\u001b[0m       \u001b[31m│\u001b[0m\n",
       "\u001b[31m│\u001b[0m \u001b[33m╰─────────────────────────────────────────────────────────────────────────────────╯\u001b[0m       \u001b[31m│\u001b[0m\n",
       "\u001b[31m│\u001b[0m                                                                                           \u001b[31m│\u001b[0m\n",
       "\u001b[31m│\u001b[0m \u001b[2;33m/home/hfwittmann/.cache/pypoetry/virtualenvs/myhuggingface-37nujZai-py3.7/lib/python3.7/s\u001b[0m \u001b[31m│\u001b[0m\n",
       "\u001b[31m│\u001b[0m \u001b[2;33mite-packages/pandas/core/\u001b[0m\u001b[1;33mgeneric.py\u001b[0m:\u001b[94m442\u001b[0m in \u001b[92m_validate_dtype\u001b[0m                                \u001b[31m│\u001b[0m\n",
       "\u001b[31m│\u001b[0m                                                                                           \u001b[31m│\u001b[0m\n",
       "\u001b[31m│\u001b[0m   \u001b[2m  439 \u001b[0m\u001b[2m│   \u001b[0m\u001b[94mdef\u001b[0m \u001b[92m_validate_dtype\u001b[0m(\u001b[96mcls\u001b[0m, dtype) -> DtypeObj | \u001b[94mNone\u001b[0m:                           \u001b[31m│\u001b[0m\n",
       "\u001b[31m│\u001b[0m   \u001b[2m  440 \u001b[0m\u001b[2m│   │   \u001b[0m\u001b[33m\"\"\"validate the passed dtype\"\"\"\u001b[0m                                           \u001b[31m│\u001b[0m\n",
       "\u001b[31m│\u001b[0m   \u001b[2m  441 \u001b[0m\u001b[2m│   │   \u001b[0m\u001b[94mif\u001b[0m dtype \u001b[95mis\u001b[0m \u001b[95mnot\u001b[0m \u001b[94mNone\u001b[0m:                                                     \u001b[31m│\u001b[0m\n",
       "\u001b[31m│\u001b[0m \u001b[31m❱ \u001b[0m  442 \u001b[2m│   │   │   \u001b[0mdtype = pandas_dtype(dtype)                                           \u001b[31m│\u001b[0m\n",
       "\u001b[31m│\u001b[0m   \u001b[2m  443 \u001b[0m\u001b[2m│   │   │   \u001b[0m                                                                      \u001b[31m│\u001b[0m\n",
       "\u001b[31m│\u001b[0m   \u001b[2m  444 \u001b[0m\u001b[2m│   │   │   \u001b[0m\u001b[2m# a compound dtype\u001b[0m                                                    \u001b[31m│\u001b[0m\n",
       "\u001b[31m│\u001b[0m   \u001b[2m  445 \u001b[0m\u001b[2m│   │   │   \u001b[0m\u001b[94mif\u001b[0m dtype.kind == \u001b[33m\"\u001b[0m\u001b[33mV\u001b[0m\u001b[33m\"\u001b[0m:                                                 \u001b[31m│\u001b[0m\n",
       "\u001b[31m│\u001b[0m                                                                                           \u001b[31m│\u001b[0m\n",
       "\u001b[31m│\u001b[0m \u001b[33m╭─\u001b[0m\u001b[33m────────────────── locals ───────────────────\u001b[0m\u001b[33m─╮\u001b[0m                                         \u001b[31m│\u001b[0m\n",
       "\u001b[31m│\u001b[0m \u001b[33m│\u001b[0m   cls = \u001b[1m<\u001b[0m\u001b[1;95mclass\u001b[0m\u001b[39m \u001b[0m\u001b[33m'pandas.core.frame.DataFrame'\u001b[0m\u001b[1m>\u001b[0m \u001b[33m│\u001b[0m                                         \u001b[31m│\u001b[0m\n",
       "\u001b[31m│\u001b[0m \u001b[33m│\u001b[0m dtype = \u001b[1m{\u001b[0m\u001b[33m'tokens'\u001b[0m: \u001b[1m<\u001b[0m\u001b[1;95mclass\u001b[0m\u001b[39m \u001b[0m\u001b[33m'numpy.float64'\u001b[0m\u001b[1m>\u001b[0m\u001b[1m}\u001b[0m   \u001b[33m│\u001b[0m                                         \u001b[31m│\u001b[0m\n",
       "\u001b[31m│\u001b[0m \u001b[33m╰───────────────────────────────────────────────╯\u001b[0m                                         \u001b[31m│\u001b[0m\n",
       "\u001b[31m│\u001b[0m                                                                                           \u001b[31m│\u001b[0m\n",
       "\u001b[31m│\u001b[0m \u001b[2;33m/home/hfwittmann/.cache/pypoetry/virtualenvs/myhuggingface-37nujZai-py3.7/lib/python3.7/s\u001b[0m \u001b[31m│\u001b[0m\n",
       "\u001b[31m│\u001b[0m \u001b[2;33mite-packages/pandas/core/dtypes/\u001b[0m\u001b[1;33mcommon.py\u001b[0m:\u001b[94m1776\u001b[0m in \u001b[92mpandas_dtype\u001b[0m                            \u001b[31m│\u001b[0m\n",
       "\u001b[31m│\u001b[0m                                                                                           \u001b[31m│\u001b[0m\n",
       "\u001b[31m│\u001b[0m   \u001b[2m1773 \u001b[0m\u001b[2m│   \u001b[0m\u001b[2m# try a numpy dtype\u001b[0m                                                            \u001b[31m│\u001b[0m\n",
       "\u001b[31m│\u001b[0m   \u001b[2m1774 \u001b[0m\u001b[2m│   \u001b[0m\u001b[2m# raise a consistent TypeError if failed\u001b[0m                                       \u001b[31m│\u001b[0m\n",
       "\u001b[31m│\u001b[0m   \u001b[2m1775 \u001b[0m\u001b[2m│   \u001b[0m\u001b[94mtry\u001b[0m:                                                                           \u001b[31m│\u001b[0m\n",
       "\u001b[31m│\u001b[0m \u001b[31m❱ \u001b[0m1776 \u001b[2m│   │   \u001b[0mnpdtype = np.dtype(dtype)                                                  \u001b[31m│\u001b[0m\n",
       "\u001b[31m│\u001b[0m   \u001b[2m1777 \u001b[0m\u001b[2m│   \u001b[0m\u001b[94mexcept\u001b[0m \u001b[96mSyntaxError\u001b[0m \u001b[94mas\u001b[0m err:                                                     \u001b[31m│\u001b[0m\n",
       "\u001b[31m│\u001b[0m   \u001b[2m1778 \u001b[0m\u001b[2m│   │   \u001b[0m\u001b[2m# np.dtype uses `eval` which can raise SyntaxError\u001b[0m                         \u001b[31m│\u001b[0m\n",
       "\u001b[31m│\u001b[0m   \u001b[2m1779 \u001b[0m\u001b[2m│   │   \u001b[0m\u001b[94mraise\u001b[0m \u001b[96mTypeError\u001b[0m(\u001b[33mf\u001b[0m\u001b[33m\"\u001b[0m\u001b[33mdata type \u001b[0m\u001b[33m'\u001b[0m\u001b[33m{\u001b[0mdtype\u001b[33m}\u001b[0m\u001b[33m'\u001b[0m\u001b[33m not understood\u001b[0m\u001b[33m\"\u001b[0m) \u001b[94mfrom\u001b[0m \u001b[4;96merr\u001b[0m            \u001b[31m│\u001b[0m\n",
       "\u001b[31m│\u001b[0m                                                                                           \u001b[31m│\u001b[0m\n",
       "\u001b[31m│\u001b[0m \u001b[33m╭─\u001b[0m\u001b[33m────────────────── locals ──────────────────\u001b[0m\u001b[33m─╮\u001b[0m                                          \u001b[31m│\u001b[0m\n",
       "\u001b[31m│\u001b[0m \u001b[33m│\u001b[0m  dtype = \u001b[1m{\u001b[0m\u001b[33m'tokens'\u001b[0m: \u001b[1m<\u001b[0m\u001b[1;95mclass\u001b[0m\u001b[39m \u001b[0m\u001b[33m'numpy.float64'\u001b[0m\u001b[1m>\u001b[0m\u001b[1m}\u001b[0m \u001b[33m│\u001b[0m                                          \u001b[31m│\u001b[0m\n",
       "\u001b[31m│\u001b[0m \u001b[33m│\u001b[0m result = \u001b[94mNone\u001b[0m                                \u001b[33m│\u001b[0m                                          \u001b[31m│\u001b[0m\n",
       "\u001b[31m│\u001b[0m \u001b[33m╰──────────────────────────────────────────────╯\u001b[0m                                          \u001b[31m│\u001b[0m\n",
       "\u001b[31m│\u001b[0m                                                                                           \u001b[31m│\u001b[0m\n",
       "\u001b[31m│\u001b[0m \u001b[2;33m/home/hfwittmann/.cache/pypoetry/virtualenvs/myhuggingface-37nujZai-py3.7/lib/python3.7/s\u001b[0m \u001b[31m│\u001b[0m\n",
       "\u001b[31m│\u001b[0m \u001b[2;33mite-packages/numpy/core/\u001b[0m\u001b[1;33m_internal.py\u001b[0m:\u001b[94m62\u001b[0m in \u001b[92m_usefields\u001b[0m                                     \u001b[31m│\u001b[0m\n",
       "\u001b[31m│\u001b[0m                                                                                           \u001b[31m│\u001b[0m\n",
       "\u001b[31m│\u001b[0m   \u001b[2m 59 \u001b[0m\u001b[2m│   \u001b[0m\u001b[94mexcept\u001b[0m \u001b[96mKeyError\u001b[0m:                                                                \u001b[31m│\u001b[0m\n",
       "\u001b[31m│\u001b[0m   \u001b[2m 60 \u001b[0m\u001b[2m│   │   \u001b[0mnames = \u001b[94mNone\u001b[0m                                                                \u001b[31m│\u001b[0m\n",
       "\u001b[31m│\u001b[0m   \u001b[2m 61 \u001b[0m\u001b[2m│   \u001b[0m\u001b[94mif\u001b[0m names \u001b[95mis\u001b[0m \u001b[94mNone\u001b[0m:                                                               \u001b[31m│\u001b[0m\n",
       "\u001b[31m│\u001b[0m \u001b[31m❱ \u001b[0m 62 \u001b[2m│   │   \u001b[0mnames, formats, offsets, titles = _makenames_list(adict, align)             \u001b[31m│\u001b[0m\n",
       "\u001b[31m│\u001b[0m   \u001b[2m 63 \u001b[0m\u001b[2m│   \u001b[0m\u001b[94melse\u001b[0m:                                                                           \u001b[31m│\u001b[0m\n",
       "\u001b[31m│\u001b[0m   \u001b[2m 64 \u001b[0m\u001b[2m│   │   \u001b[0mformats = []                                                                \u001b[31m│\u001b[0m\n",
       "\u001b[31m│\u001b[0m   \u001b[2m 65 \u001b[0m\u001b[2m│   │   \u001b[0moffsets = []                                                                \u001b[31m│\u001b[0m\n",
       "\u001b[31m│\u001b[0m                                                                                           \u001b[31m│\u001b[0m\n",
       "\u001b[31m│\u001b[0m \u001b[33m╭─\u001b[0m\u001b[33m───────────────── locals ──────────────────\u001b[0m\u001b[33m─╮\u001b[0m                                           \u001b[31m│\u001b[0m\n",
       "\u001b[31m│\u001b[0m \u001b[33m│\u001b[0m adict = \u001b[1m{\u001b[0m\u001b[33m'tokens'\u001b[0m: \u001b[1m<\u001b[0m\u001b[1;95mclass\u001b[0m\u001b[39m \u001b[0m\u001b[33m'numpy.float64'\u001b[0m\u001b[1m>\u001b[0m\u001b[1m}\u001b[0m \u001b[33m│\u001b[0m                                           \u001b[31m│\u001b[0m\n",
       "\u001b[31m│\u001b[0m \u001b[33m│\u001b[0m align = \u001b[94m0\u001b[0m                                   \u001b[33m│\u001b[0m                                           \u001b[31m│\u001b[0m\n",
       "\u001b[31m│\u001b[0m \u001b[33m│\u001b[0m names = \u001b[94mNone\u001b[0m                                \u001b[33m│\u001b[0m                                           \u001b[31m│\u001b[0m\n",
       "\u001b[31m│\u001b[0m \u001b[33m╰─────────────────────────────────────────────╯\u001b[0m                                           \u001b[31m│\u001b[0m\n",
       "\u001b[31m│\u001b[0m                                                                                           \u001b[31m│\u001b[0m\n",
       "\u001b[31m│\u001b[0m \u001b[2;33m/home/hfwittmann/.cache/pypoetry/virtualenvs/myhuggingface-37nujZai-py3.7/lib/python3.7/s\u001b[0m \u001b[31m│\u001b[0m\n",
       "\u001b[31m│\u001b[0m \u001b[2;33mite-packages/numpy/core/\u001b[0m\u001b[1;33m_internal.py\u001b[0m:\u001b[94m30\u001b[0m in \u001b[92m_makenames_list\u001b[0m                                \u001b[31m│\u001b[0m\n",
       "\u001b[31m│\u001b[0m                                                                                           \u001b[31m│\u001b[0m\n",
       "\u001b[31m│\u001b[0m   \u001b[2m 27 \u001b[0m\u001b[2m│   \u001b[0mallfields = []                                                                  \u001b[31m│\u001b[0m\n",
       "\u001b[31m│\u001b[0m   \u001b[2m 28 \u001b[0m\u001b[2m│   \u001b[0m                                                                                \u001b[31m│\u001b[0m\n",
       "\u001b[31m│\u001b[0m   \u001b[2m 29 \u001b[0m\u001b[2m│   \u001b[0m\u001b[94mfor\u001b[0m fname, obj \u001b[95min\u001b[0m adict.items():                                                \u001b[31m│\u001b[0m\n",
       "\u001b[31m│\u001b[0m \u001b[31m❱ \u001b[0m 30 \u001b[2m│   │   \u001b[0mn = \u001b[96mlen\u001b[0m(obj)                                                                \u001b[31m│\u001b[0m\n",
       "\u001b[31m│\u001b[0m   \u001b[2m 31 \u001b[0m\u001b[2m│   │   \u001b[0m\u001b[94mif\u001b[0m \u001b[95mnot\u001b[0m \u001b[96misinstance\u001b[0m(obj, \u001b[96mtuple\u001b[0m) \u001b[95mor\u001b[0m n \u001b[95mnot\u001b[0m \u001b[95min\u001b[0m (\u001b[94m2\u001b[0m, \u001b[94m3\u001b[0m):                           \u001b[31m│\u001b[0m\n",
       "\u001b[31m│\u001b[0m   \u001b[2m 32 \u001b[0m\u001b[2m│   │   │   \u001b[0m\u001b[94mraise\u001b[0m \u001b[96mValueError\u001b[0m(\u001b[33m\"\u001b[0m\u001b[33mentry not a 2- or 3- tuple\u001b[0m\u001b[33m\"\u001b[0m)                          \u001b[31m│\u001b[0m\n",
       "\u001b[31m│\u001b[0m   \u001b[2m 33 \u001b[0m\u001b[2m│   │   \u001b[0m\u001b[94mif\u001b[0m n > \u001b[94m2\u001b[0m \u001b[95mand\u001b[0m obj[\u001b[94m2\u001b[0m] == fname:                                               \u001b[31m│\u001b[0m\n",
       "\u001b[31m│\u001b[0m                                                                                           \u001b[31m│\u001b[0m\n",
       "\u001b[31m│\u001b[0m \u001b[33m╭─\u001b[0m\u001b[33m─────────────────── locals ────────────────────\u001b[0m\u001b[33m─╮\u001b[0m                                       \u001b[31m│\u001b[0m\n",
       "\u001b[31m│\u001b[0m \u001b[33m│\u001b[0m     adict = \u001b[1m{\u001b[0m\u001b[33m'tokens'\u001b[0m: \u001b[1m<\u001b[0m\u001b[1;95mclass\u001b[0m\u001b[39m \u001b[0m\u001b[33m'numpy.float64'\u001b[0m\u001b[1m>\u001b[0m\u001b[1m}\u001b[0m \u001b[33m│\u001b[0m                                       \u001b[31m│\u001b[0m\n",
       "\u001b[31m│\u001b[0m \u001b[33m│\u001b[0m     align = \u001b[94m0\u001b[0m                                   \u001b[33m│\u001b[0m                                       \u001b[31m│\u001b[0m\n",
       "\u001b[31m│\u001b[0m \u001b[33m│\u001b[0m allfields = \u001b[1m[\u001b[0m\u001b[1m]\u001b[0m                                  \u001b[33m│\u001b[0m                                       \u001b[31m│\u001b[0m\n",
       "\u001b[31m│\u001b[0m \u001b[33m│\u001b[0m     fname = \u001b[33m'tokens'\u001b[0m                            \u001b[33m│\u001b[0m                                       \u001b[31m│\u001b[0m\n",
       "\u001b[31m│\u001b[0m \u001b[33m│\u001b[0m       obj = \u001b[1m<\u001b[0m\u001b[1;95mclass\u001b[0m\u001b[39m \u001b[0m\u001b[33m'numpy.float64'\u001b[0m\u001b[1m>\u001b[0m             \u001b[33m│\u001b[0m                                       \u001b[31m│\u001b[0m\n",
       "\u001b[31m│\u001b[0m \u001b[33m╰─────────────────────────────────────────────────╯\u001b[0m                                       \u001b[31m│\u001b[0m\n",
       "\u001b[31m╰───────────────────────────────────────────────────────────────────────────────────────────╯\u001b[0m\n",
       "\u001b[1;91mTypeError: \u001b[0mobject of type \u001b[32m'type'\u001b[0m has no \u001b[1;35mlen\u001b[0m\u001b[1m(\u001b[0m\u001b[1m)\u001b[0m\n"
      ]
     },
     "metadata": {},
     "output_type": "display_data"
    }
   ],
   "source": [
    "import pandas as pd\n",
    "import numpy as np\n",
    "train = pd.DataFrame(dataset_csv['train'], dtype={'tokens':np.double})\n",
    "train"
   ]
  },
  {
   "cell_type": "code",
   "execution_count": 10,
   "id": "8fb9ff3f",
   "metadata": {},
   "outputs": [
    {
     "data": {
      "text/html": [
       "<pre style=\"white-space:pre;overflow-x:auto;line-height:normal;font-family:Menlo,'DejaVu Sans Mono',consolas,'Courier New',monospace\"><span style=\"color: #008000; text-decoration-color: #008000\">'[22 42 16 21 35 37 16 21  7]'</span>\n",
       "</pre>\n"
      ],
      "text/plain": [
       "\u001b[32m'\u001b[0m\u001b[32m[\u001b[0m\u001b[32m22 42 16 21 35 37 16 21  7\u001b[0m\u001b[32m]\u001b[0m\u001b[32m'\u001b[0m\n"
      ]
     },
     "metadata": {},
     "output_type": "display_data"
    }
   ],
   "source": [
    "train['pos_tags'][0]"
   ]
  },
  {
   "cell_type": "code",
   "execution_count": null,
   "id": "9b596f3e",
   "metadata": {},
   "outputs": [],
   "source": []
  }
 ],
 "metadata": {
  "kernelspec": {
   "display_name": "Kedro (token_classification)",
   "language": "python",
   "name": "kedro_token_classification"
  },
  "language_info": {
   "codemirror_mode": {
    "name": "ipython",
    "version": 3
   },
   "file_extension": ".py",
   "mimetype": "text/x-python",
   "name": "python",
   "nbconvert_exporter": "python",
   "pygments_lexer": "ipython3",
   "version": "3.7.12"
  },
  "toc": {
   "base_numbering": 1,
   "nav_menu": {},
   "number_sections": true,
   "sideBar": true,
   "skip_h1_title": false,
   "title_cell": "Table of Contents",
   "title_sidebar": "Contents",
   "toc_cell": false,
   "toc_position": {},
   "toc_section_display": true,
   "toc_window_display": false
  }
 },
 "nbformat": 4,
 "nbformat_minor": 5
}
